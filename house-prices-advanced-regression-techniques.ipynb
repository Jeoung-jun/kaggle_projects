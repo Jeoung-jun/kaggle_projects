{
 "cells": [
  {
   "cell_type": "markdown",
   "id": "4086b11e",
   "metadata": {},
   "source": [
    "# 캐글\n",
    "- 각 대회의 개요를 확인할 떄 overview 탭을 클랙해서 Description, Evaluation, Prizes 등과 메뉴를 확인할 수 있다. \n",
    "    - 주의 깊게 봐야할 탭은 Evaluation이다. \n",
    "- api를 사용하지 않고 바로 csv파일을 다운로드 받아서 캐글을 진행할 수 있지만 본 실습에서는 api를 사용해서 데이터를 받는다.\n",
    "    - kaggle 홈에서 우측 프로필에서 Account를 클릭하고 API 탭에서 create new API token을 눌러서 새로 토큰을 만들면 json 파일이 생성된다. "
   ]
  },
  {
   "cell_type": "code",
   "execution_count": 2,
   "id": "b9063798",
   "metadata": {
    "scrolled": true
   },
   "outputs": [
    {
     "name": "stdout",
     "output_type": "stream",
     "text": [
      "Collecting kaggle\n",
      "  Using cached kaggle-1.5.12.tar.gz (58 kB)\n",
      "  Preparing metadata (setup.py) ... \u001b[?25ldone\n",
      "\u001b[?25hRequirement already satisfied: six>=1.10 in /Users/austin/opt/anaconda3/lib/python3.9/site-packages (from kaggle) (1.16.0)\n",
      "Requirement already satisfied: certifi in /Users/austin/opt/anaconda3/lib/python3.9/site-packages (from kaggle) (2022.12.7)\n",
      "Requirement already satisfied: python-dateutil in /Users/austin/opt/anaconda3/lib/python3.9/site-packages (from kaggle) (2.8.2)\n",
      "Requirement already satisfied: requests in /Users/austin/opt/anaconda3/lib/python3.9/site-packages (from kaggle) (2.26.0)\n",
      "Requirement already satisfied: tqdm in /Users/austin/opt/anaconda3/lib/python3.9/site-packages (from kaggle) (4.62.3)\n",
      "Requirement already satisfied: python-slugify in /Users/austin/opt/anaconda3/lib/python3.9/site-packages (from kaggle) (5.0.2)\n",
      "Requirement already satisfied: urllib3 in /Users/austin/opt/anaconda3/lib/python3.9/site-packages (from kaggle) (1.26.7)\n",
      "Requirement already satisfied: text-unidecode>=1.3 in /Users/austin/opt/anaconda3/lib/python3.9/site-packages (from python-slugify->kaggle) (1.3)\n",
      "Requirement already satisfied: idna<4,>=2.5 in /Users/austin/opt/anaconda3/lib/python3.9/site-packages (from requests->kaggle) (3.2)\n",
      "Requirement already satisfied: charset-normalizer~=2.0.0 in /Users/austin/opt/anaconda3/lib/python3.9/site-packages (from requests->kaggle) (2.0.4)\n",
      "Building wheels for collected packages: kaggle\n",
      "  Building wheel for kaggle (setup.py) ... \u001b[?25ldone\n",
      "\u001b[?25h  Created wheel for kaggle: filename=kaggle-1.5.12-py3-none-any.whl size=73051 sha256=64a0c9825a0bcc630107685b42daddc97e5739008bceb67ded4e6771b4eec3d4\n",
      "  Stored in directory: /Users/austin/Library/Caches/pip/wheels/50/0a/6a/77a4f3a534f0e5fd0909a376bbdfc88238a43eb2ac35947dc7\n",
      "Successfully built kaggle\n",
      "Installing collected packages: kaggle\n",
      "Successfully installed kaggle-1.5.12\n"
     ]
    }
   ],
   "source": [
    "#kaggle api를 사용하기 위해서 라이브러리를 설치한다. \n",
    "!pip install kaggle"
   ]
  },
  {
   "cell_type": "code",
   "execution_count": 3,
   "id": "63308fb8",
   "metadata": {},
   "outputs": [
    {
     "name": "stdout",
     "output_type": "stream",
     "text": [
      "Name: kaggle\n",
      "Version: 1.5.12\n",
      "Summary: Kaggle API\n",
      "Home-page: https://github.com/Kaggle/kaggle-api\n",
      "Author: Kaggle\n",
      "Author-email: support@kaggle.com\n",
      "License: Apache 2.0\n",
      "Location: /Users/austin/opt/anaconda3/lib/python3.9/site-packages\n",
      "Requires: certifi, python-dateutil, python-slugify, requests, six, tqdm, urllib3\n",
      "Required-by: \n",
      "Note: you may need to restart the kernel to use updated packages.\n"
     ]
    }
   ],
   "source": [
    "pip show kaggle"
   ]
  },
  {
   "cell_type": "code",
   "execution_count": 4,
   "id": "98e18b13",
   "metadata": {
    "scrolled": false
   },
   "outputs": [
    {
     "name": "stdout",
     "output_type": "stream",
     "text": [
      "Warning: Your Kaggle API key is readable by other users on this system! To fix this, you can run 'chmod 600 /Users/austin/.kaggle/kaggle.json'\n",
      "ref                                                                               deadline             category            reward  teamCount  userHasEntered  \n",
      "--------------------------------------------------------------------------------  -------------------  ---------------  ---------  ---------  --------------  \n",
      "https://www.kaggle.com/competitions/nfl-player-contact-detection                  2023-03-01 23:59:00  Featured          $100,000        569           False  \n",
      "https://www.kaggle.com/competitions/godaddy-microbusiness-density-forecasting     2023-03-14 23:59:00  Featured           $60,000       1805           False  \n",
      "https://www.kaggle.com/competitions/learning-equality-curriculum-recommendations  2023-03-14 23:59:00  Featured           $55,000        546           False  \n",
      "https://www.kaggle.com/competitions/lux-ai-season-2                               2023-04-24 23:59:00  Featured           $55,000         20           False  \n",
      "https://www.kaggle.com/competitions/rsna-breast-cancer-detection                  2023-02-27 23:59:00  Featured           $50,000       1228           False  \n",
      "https://www.kaggle.com/competitions/icecube-neutrinos-in-deep-ice                 2023-04-19 23:59:00  Research           $50,000        167           False  \n",
      "https://www.kaggle.com/competitions/otto-recommender-system                       2023-01-31 23:59:00  Featured           $30,000       2533           False  \n",
      "https://www.kaggle.com/competitions/playground-series-s3e4                        2023-01-30 23:59:00  Playground            Swag        418           False  \n",
      "https://www.kaggle.com/competitions/titanic                                       2030-01-01 00:00:00  Getting Started  Knowledge      13867           False  \n",
      "https://www.kaggle.com/competitions/house-prices-advanced-regression-techniques   2030-01-01 00:00:00  Getting Started  Knowledge       4105            True  \n",
      "https://www.kaggle.com/competitions/spaceship-titanic                             2030-01-01 00:00:00  Getting Started  Knowledge       2462           False  \n",
      "https://www.kaggle.com/competitions/digit-recognizer                              2030-01-01 00:00:00  Getting Started  Knowledge       1242           False  \n",
      "https://www.kaggle.com/competitions/nlp-getting-started                           2030-01-01 00:00:00  Getting Started  Knowledge        915           False  \n",
      "https://www.kaggle.com/competitions/connectx                                      2030-01-01 00:00:00  Getting Started  Knowledge        244           False  \n",
      "https://www.kaggle.com/competitions/tpu-getting-started                           2030-06-03 23:59:00  Getting Started  Knowledge        138           False  \n",
      "https://www.kaggle.com/competitions/store-sales-time-series-forecasting           2030-06-30 23:59:00  Getting Started  Knowledge        875           False  \n",
      "https://www.kaggle.com/competitions/gan-getting-started                           2030-07-01 23:59:00  Getting Started     Prizes         86           False  \n",
      "https://www.kaggle.com/competitions/contradictory-my-dear-watson                  2030-07-01 23:59:00  Getting Started     Prizes         81           False  \n"
     ]
    }
   ],
   "source": [
    "#구글 코랩에서는 다른 방법으로 api를 설정해야하지만 로컬 환경에서는 ~/.kaggle 경로로 json파일 경로를 수정해주면 된다. \n",
    "!kaggle competitions list"
   ]
  },
  {
   "cell_type": "code",
   "execution_count": 5,
   "id": "fd21771c",
   "metadata": {},
   "outputs": [
    {
     "name": "stdout",
     "output_type": "stream",
     "text": [
      "Warning: Your Kaggle API key is readable by other users on this system! To fix this, you can run 'chmod 600 /Users/austin/.kaggle/kaggle.json'\n",
      "house-prices-advanced-regression-techniques.zip: Skipping, found more recently modified local copy (use --force to force download)\n"
     ]
    }
   ],
   "source": [
    "#위에 보여진 현재 진행중인 캐글 대회들 중에서 원하는 대회의 이름을 !kaggle competitions download 뒤에 입력하면 다운받아진다. \n",
    "!kaggle competitions download house-prices-advanced-regression-techniques "
   ]
  },
  {
   "cell_type": "code",
   "execution_count": 6,
   "id": "d11c1c7a",
   "metadata": {},
   "outputs": [
    {
     "name": "stdout",
     "output_type": "stream",
     "text": [
      "Data Loading is done!\n"
     ]
    }
   ],
   "source": [
    "import pandas as pd\n",
    "train = pd.read_csv('/Users/austin/Desktop/folders/kaggle_projects/house-prices-advanced-regression-techniques/train.csv')\n",
    "test =  pd.read_csv('/Users/austin/Desktop/folders/kaggle_projects/house-prices-advanced-regression-techniques/test.csv')\n",
    "print('Data Loading is done!')"
   ]
  },
  {
   "cell_type": "code",
   "execution_count": 7,
   "id": "1ff349c9",
   "metadata": {},
   "outputs": [
    {
     "name": "stdout",
     "output_type": "stream",
     "text": [
      "The shape of Train data is: (1460, 81)\n",
      "The shape of Test data is: (1459, 80)\n"
     ]
    }
   ],
   "source": [
    "print('The shape of Train data is:', train.shape)\n",
    "print('The shape of Test data is:', test.shape)"
   ]
  },
  {
   "cell_type": "code",
   "execution_count": 8,
   "id": "b59f0772",
   "metadata": {
    "scrolled": true
   },
   "outputs": [
    {
     "name": "stdout",
     "output_type": "stream",
     "text": [
      "<class 'pandas.core.frame.DataFrame'>\n",
      "RangeIndex: 1460 entries, 0 to 1459\n",
      "Data columns (total 81 columns):\n",
      " #   Column         Non-Null Count  Dtype  \n",
      "---  ------         --------------  -----  \n",
      " 0   Id             1460 non-null   int64  \n",
      " 1   MSSubClass     1460 non-null   int64  \n",
      " 2   MSZoning       1460 non-null   object \n",
      " 3   LotFrontage    1201 non-null   float64\n",
      " 4   LotArea        1460 non-null   int64  \n",
      " 5   Street         1460 non-null   object \n",
      " 6   Alley          91 non-null     object \n",
      " 7   LotShape       1460 non-null   object \n",
      " 8   LandContour    1460 non-null   object \n",
      " 9   Utilities      1460 non-null   object \n",
      " 10  LotConfig      1460 non-null   object \n",
      " 11  LandSlope      1460 non-null   object \n",
      " 12  Neighborhood   1460 non-null   object \n",
      " 13  Condition1     1460 non-null   object \n",
      " 14  Condition2     1460 non-null   object \n",
      " 15  BldgType       1460 non-null   object \n",
      " 16  HouseStyle     1460 non-null   object \n",
      " 17  OverallQual    1460 non-null   int64  \n",
      " 18  OverallCond    1460 non-null   int64  \n",
      " 19  YearBuilt      1460 non-null   int64  \n",
      " 20  YearRemodAdd   1460 non-null   int64  \n",
      " 21  RoofStyle      1460 non-null   object \n",
      " 22  RoofMatl       1460 non-null   object \n",
      " 23  Exterior1st    1460 non-null   object \n",
      " 24  Exterior2nd    1460 non-null   object \n",
      " 25  MasVnrType     1452 non-null   object \n",
      " 26  MasVnrArea     1452 non-null   float64\n",
      " 27  ExterQual      1460 non-null   object \n",
      " 28  ExterCond      1460 non-null   object \n",
      " 29  Foundation     1460 non-null   object \n",
      " 30  BsmtQual       1423 non-null   object \n",
      " 31  BsmtCond       1423 non-null   object \n",
      " 32  BsmtExposure   1422 non-null   object \n",
      " 33  BsmtFinType1   1423 non-null   object \n",
      " 34  BsmtFinSF1     1460 non-null   int64  \n",
      " 35  BsmtFinType2   1422 non-null   object \n",
      " 36  BsmtFinSF2     1460 non-null   int64  \n",
      " 37  BsmtUnfSF      1460 non-null   int64  \n",
      " 38  TotalBsmtSF    1460 non-null   int64  \n",
      " 39  Heating        1460 non-null   object \n",
      " 40  HeatingQC      1460 non-null   object \n",
      " 41  CentralAir     1460 non-null   object \n",
      " 42  Electrical     1459 non-null   object \n",
      " 43  1stFlrSF       1460 non-null   int64  \n",
      " 44  2ndFlrSF       1460 non-null   int64  \n",
      " 45  LowQualFinSF   1460 non-null   int64  \n",
      " 46  GrLivArea      1460 non-null   int64  \n",
      " 47  BsmtFullBath   1460 non-null   int64  \n",
      " 48  BsmtHalfBath   1460 non-null   int64  \n",
      " 49  FullBath       1460 non-null   int64  \n",
      " 50  HalfBath       1460 non-null   int64  \n",
      " 51  BedroomAbvGr   1460 non-null   int64  \n",
      " 52  KitchenAbvGr   1460 non-null   int64  \n",
      " 53  KitchenQual    1460 non-null   object \n",
      " 54  TotRmsAbvGrd   1460 non-null   int64  \n",
      " 55  Functional     1460 non-null   object \n",
      " 56  Fireplaces     1460 non-null   int64  \n",
      " 57  FireplaceQu    770 non-null    object \n",
      " 58  GarageType     1379 non-null   object \n",
      " 59  GarageYrBlt    1379 non-null   float64\n",
      " 60  GarageFinish   1379 non-null   object \n",
      " 61  GarageCars     1460 non-null   int64  \n",
      " 62  GarageArea     1460 non-null   int64  \n",
      " 63  GarageQual     1379 non-null   object \n",
      " 64  GarageCond     1379 non-null   object \n",
      " 65  PavedDrive     1460 non-null   object \n",
      " 66  WoodDeckSF     1460 non-null   int64  \n",
      " 67  OpenPorchSF    1460 non-null   int64  \n",
      " 68  EnclosedPorch  1460 non-null   int64  \n",
      " 69  3SsnPorch      1460 non-null   int64  \n",
      " 70  ScreenPorch    1460 non-null   int64  \n",
      " 71  PoolArea       1460 non-null   int64  \n",
      " 72  PoolQC         7 non-null      object \n",
      " 73  Fence          281 non-null    object \n",
      " 74  MiscFeature    54 non-null     object \n",
      " 75  MiscVal        1460 non-null   int64  \n",
      " 76  MoSold         1460 non-null   int64  \n",
      " 77  YrSold         1460 non-null   int64  \n",
      " 78  SaleType       1460 non-null   object \n",
      " 79  SaleCondition  1460 non-null   object \n",
      " 80  SalePrice      1460 non-null   int64  \n",
      "dtypes: float64(3), int64(35), object(43)\n",
      "memory usage: 924.0+ KB\n",
      "None\n"
     ]
    }
   ],
   "source": [
    "print(train.info())"
   ]
  },
  {
   "cell_type": "code",
   "execution_count": 9,
   "id": "00fe31d9",
   "metadata": {
    "scrolled": true
   },
   "outputs": [
    {
     "name": "stdout",
     "output_type": "stream",
     "text": [
      "<class 'pandas.core.frame.DataFrame'>\n",
      "RangeIndex: 1459 entries, 0 to 1458\n",
      "Data columns (total 80 columns):\n",
      " #   Column         Non-Null Count  Dtype  \n",
      "---  ------         --------------  -----  \n",
      " 0   Id             1459 non-null   int64  \n",
      " 1   MSSubClass     1459 non-null   int64  \n",
      " 2   MSZoning       1455 non-null   object \n",
      " 3   LotFrontage    1232 non-null   float64\n",
      " 4   LotArea        1459 non-null   int64  \n",
      " 5   Street         1459 non-null   object \n",
      " 6   Alley          107 non-null    object \n",
      " 7   LotShape       1459 non-null   object \n",
      " 8   LandContour    1459 non-null   object \n",
      " 9   Utilities      1457 non-null   object \n",
      " 10  LotConfig      1459 non-null   object \n",
      " 11  LandSlope      1459 non-null   object \n",
      " 12  Neighborhood   1459 non-null   object \n",
      " 13  Condition1     1459 non-null   object \n",
      " 14  Condition2     1459 non-null   object \n",
      " 15  BldgType       1459 non-null   object \n",
      " 16  HouseStyle     1459 non-null   object \n",
      " 17  OverallQual    1459 non-null   int64  \n",
      " 18  OverallCond    1459 non-null   int64  \n",
      " 19  YearBuilt      1459 non-null   int64  \n",
      " 20  YearRemodAdd   1459 non-null   int64  \n",
      " 21  RoofStyle      1459 non-null   object \n",
      " 22  RoofMatl       1459 non-null   object \n",
      " 23  Exterior1st    1458 non-null   object \n",
      " 24  Exterior2nd    1458 non-null   object \n",
      " 25  MasVnrType     1443 non-null   object \n",
      " 26  MasVnrArea     1444 non-null   float64\n",
      " 27  ExterQual      1459 non-null   object \n",
      " 28  ExterCond      1459 non-null   object \n",
      " 29  Foundation     1459 non-null   object \n",
      " 30  BsmtQual       1415 non-null   object \n",
      " 31  BsmtCond       1414 non-null   object \n",
      " 32  BsmtExposure   1415 non-null   object \n",
      " 33  BsmtFinType1   1417 non-null   object \n",
      " 34  BsmtFinSF1     1458 non-null   float64\n",
      " 35  BsmtFinType2   1417 non-null   object \n",
      " 36  BsmtFinSF2     1458 non-null   float64\n",
      " 37  BsmtUnfSF      1458 non-null   float64\n",
      " 38  TotalBsmtSF    1458 non-null   float64\n",
      " 39  Heating        1459 non-null   object \n",
      " 40  HeatingQC      1459 non-null   object \n",
      " 41  CentralAir     1459 non-null   object \n",
      " 42  Electrical     1459 non-null   object \n",
      " 43  1stFlrSF       1459 non-null   int64  \n",
      " 44  2ndFlrSF       1459 non-null   int64  \n",
      " 45  LowQualFinSF   1459 non-null   int64  \n",
      " 46  GrLivArea      1459 non-null   int64  \n",
      " 47  BsmtFullBath   1457 non-null   float64\n",
      " 48  BsmtHalfBath   1457 non-null   float64\n",
      " 49  FullBath       1459 non-null   int64  \n",
      " 50  HalfBath       1459 non-null   int64  \n",
      " 51  BedroomAbvGr   1459 non-null   int64  \n",
      " 52  KitchenAbvGr   1459 non-null   int64  \n",
      " 53  KitchenQual    1458 non-null   object \n",
      " 54  TotRmsAbvGrd   1459 non-null   int64  \n",
      " 55  Functional     1457 non-null   object \n",
      " 56  Fireplaces     1459 non-null   int64  \n",
      " 57  FireplaceQu    729 non-null    object \n",
      " 58  GarageType     1383 non-null   object \n",
      " 59  GarageYrBlt    1381 non-null   float64\n",
      " 60  GarageFinish   1381 non-null   object \n",
      " 61  GarageCars     1458 non-null   float64\n",
      " 62  GarageArea     1458 non-null   float64\n",
      " 63  GarageQual     1381 non-null   object \n",
      " 64  GarageCond     1381 non-null   object \n",
      " 65  PavedDrive     1459 non-null   object \n",
      " 66  WoodDeckSF     1459 non-null   int64  \n",
      " 67  OpenPorchSF    1459 non-null   int64  \n",
      " 68  EnclosedPorch  1459 non-null   int64  \n",
      " 69  3SsnPorch      1459 non-null   int64  \n",
      " 70  ScreenPorch    1459 non-null   int64  \n",
      " 71  PoolArea       1459 non-null   int64  \n",
      " 72  PoolQC         3 non-null      object \n",
      " 73  Fence          290 non-null    object \n",
      " 74  MiscFeature    51 non-null     object \n",
      " 75  MiscVal        1459 non-null   int64  \n",
      " 76  MoSold         1459 non-null   int64  \n",
      " 77  YrSold         1459 non-null   int64  \n",
      " 78  SaleType       1458 non-null   object \n",
      " 79  SaleCondition  1459 non-null   object \n",
      "dtypes: float64(11), int64(26), object(43)\n",
      "memory usage: 912.0+ KB\n",
      "None\n"
     ]
    }
   ],
   "source": [
    "print(test.info())"
   ]
  },
  {
   "cell_type": "code",
   "execution_count": 10,
   "id": "4075c58c",
   "metadata": {},
   "outputs": [
    {
     "data": {
      "text/plain": [
       "{'whiskers': [<matplotlib.lines.Line2D at 0x7fcaa93313d0>,\n",
       "  <matplotlib.lines.Line2D at 0x7fcaa9331760>],\n",
       " 'caps': [<matplotlib.lines.Line2D at 0x7fcaa9331af0>,\n",
       "  <matplotlib.lines.Line2D at 0x7fcaa9331e80>],\n",
       " 'boxes': [<matplotlib.lines.Line2D at 0x7fcaa9331040>],\n",
       " 'medians': [<matplotlib.lines.Line2D at 0x7fcaa933c250>],\n",
       " 'fliers': [<matplotlib.lines.Line2D at 0x7fcaa933c5e0>],\n",
       " 'means': []}"
      ]
     },
     "execution_count": 10,
     "metadata": {},
     "output_type": "execute_result"
    },
    {
     "data": {
      "image/png": "[encoded data removed]",
      "text/plain": [
       "<Figure size 1000x600 with 2 Axes>"
      ]
     },
     "metadata": {},
     "output_type": "display_data"
    }
   ],
   "source": [
    "#이상치 제거\n",
    "%matplotlib inline\n",
    "import matplotlib.pyplot as plt\n",
    "import matplotlib\n",
    "plt.style.use('default')\n",
    "fig, ax= plt.subplots(1,2, figsize = (10,6))\n",
    "\n",
    "ax[0].boxplot([train['OverallQual']])\n",
    "\n",
    "ax[1].boxplot(train['SalePrice'])\n"
   ]
  },
  {
   "cell_type": "code",
   "execution_count": 31,
   "id": "afcebe5d",
   "metadata": {},
   "outputs": [
    {
     "name": "stdout",
     "output_type": "stream",
     "text": [
      "3.0\n",
      "9.0\n",
      "(1460, 81)\n"
     ]
    }
   ],
   "source": [
    "#책에서는 대략적으로 이상치라고 판단하고 제거한다. \n",
    "# train.drop(train[(train['OverallQual']<4) & (train['SalePrice']>200000)].index, inplace = True)\n",
    "# train.drop(train[(train['OverallQual']>4) & (train['SalePrice']>200000)].index, inplace = True)\n",
    "\n",
    "#조금은 더 엄밀하게 접근해보기 위해서 IQR을 구하고 제거해보니 총 1460개의 행이 남은 것을 볼 수 있다. \n",
    "q1_qual = train['OverallQual'].quantile(.25)\n",
    "q3_qual = train['OverallQual'].quantile(.75)\n",
    "q1_price = train['SalePrice'].quantile(.25)\n",
    "q3_price = train['SalePrice'].quantile(.75)\n",
    "iqr_qual = q3_qual-q1_qual\n",
    "iqr_price = q3_price-q1_price\n",
    "print(q1_qual - iqr_qual)\n",
    "print(q3_qual + iqr_qual)\n",
    "train_drop = train.drop(train[train['OverallQual']> q3_qual + iqr_qual *1.5 ].index)\n",
    "train_drop = train.drop(train[train['OverallQual']< q1_qual - iqr_qual *1.5 ].index)\n",
    "train_drop = train.drop(train[train['SalePrice']> q3_price + iqr_price *1.5 ].index)\n",
    "train_drop = train.drop(train[train['SalePrice']< q1_price - iqr_price *1.5 ].index)\n",
    "\n",
    "\n",
    "train_drop.reset_index(drop =True, inplace = True)\n",
    "print(train_drop.shape)"
   ]
  },
  {
   "cell_type": "code",
   "execution_count": 32,
   "id": "11c747bc",
   "metadata": {},
   "outputs": [
    {
     "name": "stdout",
     "output_type": "stream",
     "text": [
      "The value of mu before log transformation is: 180921.19589041095\n",
      "The value of sigma before log transformation is: 79415.29188606751\n"
     ]
    },
    {
     "name": "stderr",
     "output_type": "stream",
     "text": [
      "/var/folders/nh/3q0vdk7s383d4t34nv4_q89m0000gn/T/ipykernel_25837/1623753887.py:17: UserWarning: Matplotlib is currently using module://matplotlib_inline.backend_inline, which is a non-GUI backend, so cannot show the figure.\n",
      "  fig.show()\n"
     ]
    },
    {
     "data": {
      "image/png": "[encoded data removed]",
      "text/plain": [
       "<Figure size 1000x600 with 1 Axes>"
      ]
     },
     "metadata": {},
     "output_type": "display_data"
    }
   ],
   "source": [
    "import seaborn as sns\n",
    "from scipy.stats import norm \n",
    "(mu, sigma) = norm.fit(train_drop['SalePrice'])\n",
    "print('The value of mu before log transformation is:', mu)\n",
    "print('The value of sigma before log transformation is:', sigma)\n",
    "\n",
    "fig, ax = plt.subplots(figsize = (10,6))\n",
    "sns.histplot(train_drop['SalePrice'], color= 'b', stat = 'probability')\n",
    "ax.xaxis.grid(False)\n",
    "ax.set(ylabel= 'Frequency')\n",
    "ax.set(xlabel= 'SalePrice')\n",
    "ax.set(title= 'SalePrice distribution')\n",
    "\n",
    "plt.axvline(mu, color = 'r', linestyle = '--')\n",
    "plt.text(mu + 10000, 0.11, 'Mean of SalePrice', rotation = 0, color = 'r')\n",
    "\n",
    "fig.show()"
   ]
  },
  {
   "cell_type": "code",
   "execution_count": 37,
   "id": "1702e145",
   "metadata": {
    "scrolled": false
   },
   "outputs": [
    {
     "name": "stdout",
     "output_type": "stream",
     "text": [
      "The value of mu after log transformation is: 12.024057394918406\n",
      "The value of sigma after log transformation is: 0.39931245219387496\n"
     ]
    },
    {
     "name": "stderr",
     "output_type": "stream",
     "text": [
      "/var/folders/nh/3q0vdk7s383d4t34nv4_q89m0000gn/T/ipykernel_25837/3968853673.py:21: UserWarning: Matplotlib is currently using module://matplotlib_inline.backend_inline, which is a non-GUI backend, so cannot show the figure.\n",
      "  fig.show()\n"
     ]
    },
    {
     "data": {
      "image/png": "[encoded data removed]",
      "text/plain": [
       "<Figure size 1000x600 with 1 Axes>"
      ]
     },
     "metadata": {},
     "output_type": "display_data"
    }
   ],
   "source": [
    "#log transformation으로 데이터를 정규분포에 가깝게 변환시킨다. \n",
    "#log transformation은 왜도가 +인 경우 즉 오른쪽으로 꼬리가 길 경우 사용한다. \n",
    "import numpy as np\n",
    "train_drop['SalePrice'] = np.log1p(train_drop['SalePrice'])\n",
    "\n",
    "(mu, sigma) = norm.fit(train_drop['SalePrice'])\n",
    "print('The value of mu after log transformation is:', mu)\n",
    "print('The value of sigma after log transformation is:', sigma)\n",
    "\n",
    "fig, ax = plt.subplots(figsize = (10,6))\n",
    "sns.histplot(train_drop['SalePrice'], color= 'b', stat = 'probability')\n",
    "ax.xaxis.grid(False)\n",
    "ax.set(ylabel= 'Frequency')\n",
    "ax.set(xlabel= 'SalePrice')\n",
    "ax.set(title= 'SalePrice distribution')\n",
    "\n",
    "plt.axvline(mu, color = 'r', linestyle = '--')\n",
    "plt.text(mu + 0.05, 0.11, 'Mean of SalePrice', rotation = 0, color = 'r')\n",
    "\n",
    "plt.ylim(0, 0.12)\n",
    "fig.show()"
   ]
  },
  {
   "cell_type": "code",
   "execution_count": 40,
   "id": "a9c3315b",
   "metadata": {},
   "outputs": [
    {
     "data": {
      "text/plain": [
       "((1460, 80), (1459, 79))"
      ]
     },
     "execution_count": 40,
     "metadata": {},
     "output_type": "execute_result"
    }
   ],
   "source": [
    "#아래는 df 합치는 과정을 진행한다. \n",
    "train_ID = train['Id']\n",
    "test_ID = test['Id']\n",
    "train.drop(['Id'], axis = 1, inplace = True)\n",
    "test.drop(['Id'], axis = 1, inplace = True)\n",
    "train.shape, test.shape"
   ]
  },
  {
   "cell_type": "code",
   "execution_count": 41,
   "id": "e3b3c7ef",
   "metadata": {},
   "outputs": [
    {
     "data": {
      "text/plain": [
       "((1460, 79), (1459, 79), (1460,))"
      ]
     },
     "execution_count": 41,
     "metadata": {},
     "output_type": "execute_result"
    }
   ],
   "source": [
    "y=train['SalePrice'].reset_index(drop=True)\n",
    "train = train.drop('SalePrice', axis = 1)\n",
    "train.shape, test.shape, y.shape"
   ]
  },
  {
   "cell_type": "code",
   "execution_count": 42,
   "id": "fcc9b7d6",
   "metadata": {},
   "outputs": [
    {
     "data": {
      "text/plain": [
       "(2919, 79)"
      ]
     },
     "execution_count": 42,
     "metadata": {},
     "output_type": "execute_result"
    }
   ],
   "source": [
    "all_df = pd.concat([train, test]).reset_index(drop=True)\n",
    "all_df.shape"
   ]
  },
  {
   "attachments": {},
   "cell_type": "markdown",
   "id": "52448601",
   "metadata": {},
   "source": [
    "## 결측치 처리"
   ]
  },
  {
   "cell_type": "code",
   "execution_count": 43,
   "id": "e100d761",
   "metadata": {},
   "outputs": [
    {
     "name": "stdout",
     "output_type": "stream",
     "text": [
      "결측치 데이터 칼럼과 건수:\n",
      "               Missing Ratio Data Type\n",
      "PoolQC            99.657417    object\n",
      "MiscFeature       96.402878    object\n",
      "Alley             93.216855    object\n",
      "Fence             80.438506    object\n",
      "FireplaceQu       48.646797    object\n",
      "LotFrontage       16.649538   float64\n",
      "GarageFinish       5.447071    object\n",
      "GarageQual         5.447071    object\n",
      "GarageCond         5.447071    object\n",
      "GarageYrBlt        5.447071   float64\n",
      "GarageType         5.378554    object\n",
      "BsmtExposure       2.809181    object\n",
      "BsmtCond           2.809181    object\n",
      "BsmtQual           2.774923    object\n",
      "BsmtFinType2       2.740665    object\n",
      "BsmtFinType1       2.706406    object\n",
      "MasVnrType         0.822199    object\n",
      "MasVnrArea         0.787941   float64\n",
      "MSZoning           0.137033    object\n",
      "BsmtFullBath       0.068517   float64\n"
     ]
    }
   ],
   "source": [
    "def check_na(data, head_num=6):\n",
    "    isnull_na = (data.isnull().sum()/len(data)) * 100\n",
    "    data_na = isnull_na.drop(isnull_na[isnull_na==0].index).sort_values(ascending= False)\n",
    "    missing_data = pd.DataFrame({'Missing Ratio' : data_na,\n",
    "                                 'Data Type' : data.dtypes[data_na.index]})\n",
    "    print('결측치 데이터 칼럼과 건수:\\n', missing_data.head(head_num))\n",
    "\n",
    "check_na(all_df, 20)"
   ]
  },
  {
   "cell_type": "code",
   "execution_count": 44,
   "id": "3b475974",
   "metadata": {},
   "outputs": [
    {
     "name": "stdout",
     "output_type": "stream",
     "text": [
      "결측치 데이터 칼럼과 건수:\n",
      "               Missing Ratio Data Type\n",
      "GarageCond         5.447071    object\n",
      "GarageQual         5.447071    object\n",
      "GarageYrBlt        5.447071   float64\n",
      "GarageFinish       5.447071    object\n",
      "GarageType         5.378554    object\n",
      "BsmtCond           2.809181    object\n",
      "BsmtExposure       2.809181    object\n",
      "BsmtQual           2.774923    object\n",
      "BsmtFinType2       2.740665    object\n",
      "BsmtFinType1       2.706406    object\n",
      "MasVnrType         0.822199    object\n",
      "MasVnrArea         0.787941   float64\n",
      "MSZoning           0.137033    object\n",
      "Functional         0.068517    object\n",
      "Utilities          0.068517    object\n",
      "BsmtFullBath       0.068517   float64\n",
      "BsmtHalfBath       0.068517   float64\n",
      "GarageArea         0.034258   float64\n",
      "GarageCars         0.034258   float64\n",
      "TotalBsmtSF        0.034258   float64\n"
     ]
    }
   ],
   "source": [
    "all_df.drop(['PoolQC','MiscFeature','Alley','Fence','FireplaceQu','LotFrontage'], axis = 1, inplace=True)\n",
    "check_na(all_df,20)"
   ]
  },
  {
   "cell_type": "code",
   "execution_count": 46,
   "id": "b5c8d8af",
   "metadata": {},
   "outputs": [
    {
     "name": "stdout",
     "output_type": "stream",
     "text": [
      "the whole number of all_vars 43\n",
      "the whole number of final_cat_vars 38\n",
      "결측치 데이터 칼럼과 건수:\n",
      "               Missing Ratio Data Type\n",
      "GarageYrBlt        5.447071   float64\n",
      "MasVnrArea         0.787941   float64\n",
      "BsmtFullBath       0.068517   float64\n",
      "BsmtHalfBath       0.068517   float64\n",
      "BsmtFinSF1         0.034258   float64\n",
      "BsmtFinSF2         0.034258   float64\n",
      "BsmtUnfSF          0.034258   float64\n",
      "TotalBsmtSF        0.034258   float64\n",
      "GarageCars         0.034258   float64\n",
      "GarageArea         0.034258   float64\n"
     ]
    }
   ],
   "source": [
    "#결측치를 문자열 데이터는 빈도수 중 가장 높은 값으로, 수치 데이터는 Median으로 채워 넣는다. \n",
    "import numpy as np\n",
    "cat_all_vars = train.select_dtypes(exclude=[np.number])\n",
    "print('the whole number of all_vars', len(list(cat_all_vars)))\n",
    "\n",
    "final_cat_vars = []\n",
    "for v in cat_all_vars:\n",
    "    if v not in ['PoolQC','MiscFeature','Alley','Fence','FireplaceQu','LotFrontage']:\n",
    "        final_cat_vars.append(v)\n",
    "print('the whole number of final_cat_vars', len(final_cat_vars))\n",
    "\n",
    "for i in final_cat_vars:\n",
    "    all_df[i] = all_df[i].fillna(all_df[i].mode()[0])\n",
    "check_na(all_df, 20)"
   ]
  },
  {
   "cell_type": "code",
   "execution_count": 52,
   "id": "ff6f33c7",
   "metadata": {},
   "outputs": [
    {
     "name": "stdout",
     "output_type": "stream",
     "text": [
      "the whole number of all_vars 36\n",
      "the whole number of final_cat_vars 35\n",
      "결측치 데이터 칼럼과 건수:\n",
      " Empty DataFrame\n",
      "Columns: [Missing Ratio, Data Type]\n",
      "Index: []\n"
     ]
    }
   ],
   "source": [
    "#수치형 데이터를 최빈값으로 대치했다. \n",
    "num_all_vars = list(train.select_dtypes(include=[np.number]))\n",
    "print('the whole number of all_vars', len(num_all_vars))\n",
    "num_all_vars.remove('LotFrontage')\n",
    "\n",
    "print('the whole number of final_cat_vars', len(num_all_vars))\n",
    "for i in num_all_vars:\n",
    "    all_df[i].fillna(value= all_df[i].median(), inplace=True)\n",
    "    \n",
    "check_na(all_df, 20)"
   ]
  },
  {
   "cell_type": "code",
   "execution_count": null,
   "id": "fb3d76bd",
   "metadata": {},
   "outputs": [],
   "source": []
  }
 ],
 "metadata": {
  "kernelspec": {
   "display_name": "base",
   "language": "python",
   "name": "python3"
  },
  "language_info": {
   "codemirror_mode": {
    "name": "ipython",
    "version": 3
   },
   "file_extension": ".py",
   "mimetype": "text/x-python",
   "name": "python",
   "nbconvert_exporter": "python",
   "pygments_lexer": "ipython3",
   "version": "3.9.7"
  },
  "vscode": {
   "interpreter": {
    "hash": "f4e3c63a28d2eadc36e3bba0725a6dea388233dd4d06cf5319c6ed40df7370ac"
   }
  }
 },
 "nbformat": 4,
 "nbformat_minor": 5
}
