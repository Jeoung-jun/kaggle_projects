{
 "cells": [
  {
   "cell_type": "markdown",
   "id": "4086b11e",
   "metadata": {},
   "source": [
    "# 캐글\n",
    "- 각 대회의 개요를 확인할 떄 overview 탭을 클랙해서 Description, Evaluation, Prizes 등과 메뉴를 확인할 수 있다. \n",
    "    - 주의 깊게 봐야할 탭은 Evaluation이다. \n",
    "- api를 사용하지 않고 바로 csv파일을 다운로드 받아서 캐글을 진행할 수 있지만 본 실습에서는 api를 사용해서 데이터를 받는다.\n",
    "    - kaggle 홈에서 우측 프로필에서 Account를 클릭하고 API 탭에서 create new API token을 눌러서 새로 토큰을 만들면 json 파일이 생성된다. "
   ]
  },
  {
   "cell_type": "code",
   "execution_count": 65,
   "id": "b9063798",
   "metadata": {
    "scrolled": true
   },
   "outputs": [],
   "source": [
    "#kaggle api를 사용하기 위해서 라이브러리를 설치한다. \n",
    "#pip install kaggle"
   ]
  },
  {
   "cell_type": "code",
   "execution_count": 66,
   "id": "63308fb8",
   "metadata": {},
   "outputs": [
    {
     "name": "stdout",
     "output_type": "stream",
     "text": [
      "Name: kaggle\n",
      "Version: 1.5.12\n",
      "Summary: Kaggle API\n",
      "Home-page: https://github.com/Kaggle/kaggle-api\n",
      "Author: Kaggle\n",
      "Author-email: support@kaggle.com\n",
      "License: Apache 2.0\n",
      "Location: /Library/Frameworks/Python.framework/Versions/3.9/lib/python3.9/site-packages\n",
      "Requires: certifi, python-dateutil, tqdm, requests, urllib3, python-slugify, six\n",
      "Required-by: \n",
      "Note: you may need to restart the kernel to use updated packages.\n"
     ]
    }
   ],
   "source": [
    "pip show kaggle"
   ]
  },
  {
   "cell_type": "code",
   "execution_count": 67,
   "id": "98e18b13",
   "metadata": {
    "scrolled": false
   },
   "outputs": [
    {
     "name": "stdout",
     "output_type": "stream",
     "text": [
      "Warning: Your Kaggle API key is readable by other users on this system! To fix this, you can run 'chmod 600 /Users/austin/.kaggle/kaggle.json'\n",
      "ref                                                                               deadline             category            reward  teamCount  userHasEntered  \n",
      "--------------------------------------------------------------------------------  -------------------  ---------------  ---------  ---------  --------------  \n",
      "https://www.kaggle.com/competitions/nfl-player-contact-detection                  2023-03-01 23:59:00  Featured          $100,000        549           False  \n",
      "https://www.kaggle.com/competitions/godaddy-microbusiness-density-forecasting     2023-03-14 23:59:00  Featured           $60,000       1744           False  \n",
      "https://www.kaggle.com/competitions/learning-equality-curriculum-recommendations  2023-03-14 23:59:00  Featured           $55,000        523           False  \n",
      "https://www.kaggle.com/competitions/rsna-breast-cancer-detection                  2023-02-27 23:59:00  Featured           $50,000       1198           False  \n",
      "https://www.kaggle.com/competitions/icecube-neutrinos-in-deep-ice                 2023-04-19 23:59:00  Research           $50,000        120           False  \n",
      "https://www.kaggle.com/competitions/otto-recommender-system                       2023-01-31 23:59:00  Featured           $30,000       2502           False  \n",
      "https://www.kaggle.com/competitions/playground-series-s3e4                        2023-01-30 23:59:00  Playground            Swag        231           False  \n",
      "https://www.kaggle.com/competitions/titanic                                       2030-01-01 00:00:00  Getting Started  Knowledge      13755           False  \n",
      "https://www.kaggle.com/competitions/house-prices-advanced-regression-techniques   2030-01-01 00:00:00  Getting Started  Knowledge       4043            True  \n",
      "https://www.kaggle.com/competitions/spaceship-titanic                             2030-01-01 00:00:00  Getting Started  Knowledge       2575           False  \n",
      "https://www.kaggle.com/competitions/digit-recognizer                              2030-01-01 00:00:00  Getting Started  Knowledge       1255           False  \n",
      "https://www.kaggle.com/competitions/nlp-getting-started                           2030-01-01 00:00:00  Getting Started  Knowledge        926           False  \n",
      "https://www.kaggle.com/competitions/connectx                                      2030-01-01 00:00:00  Getting Started  Knowledge        246           False  \n",
      "https://www.kaggle.com/competitions/tpu-getting-started                           2030-06-03 23:59:00  Getting Started  Knowledge        142           False  \n",
      "https://www.kaggle.com/competitions/store-sales-time-series-forecasting           2030-06-30 23:59:00  Getting Started  Knowledge        881           False  \n",
      "https://www.kaggle.com/competitions/gan-getting-started                           2030-07-01 23:59:00  Getting Started     Prizes         87           False  \n",
      "https://www.kaggle.com/competitions/contradictory-my-dear-watson                  2030-07-01 23:59:00  Getting Started     Prizes         79           False  \n"
     ]
    }
   ],
   "source": [
    "#구글 코랩에서는 다른 방법으로 api를 설정해야하지만 로컬 환경에서는 ~/.kaggle 경로로 json파일 경로를 수정해주면 된다. \n",
    "!kaggle competitions list"
   ]
  },
  {
   "cell_type": "code",
   "execution_count": 68,
   "id": "fd21771c",
   "metadata": {},
   "outputs": [
    {
     "name": "stdout",
     "output_type": "stream",
     "text": [
      "Warning: Your Kaggle API key is readable by other users on this system! To fix this, you can run 'chmod 600 /Users/austin/.kaggle/kaggle.json'\n",
      "house-prices-advanced-regression-techniques.zip: Skipping, found more recently modified local copy (use --force to force download)\n"
     ]
    }
   ],
   "source": [
    "#위에 보여진 현재 진행중인 캐글 대회들 중에서 원하는 대회의 이름을 !kaggle competitions download 뒤에 입력하면 다운받아진다. \n",
    "!kaggle competitions download house-prices-advanced-regression-techniques "
   ]
  },
  {
   "cell_type": "code",
   "execution_count": 69,
   "id": "d11c1c7a",
   "metadata": {},
   "outputs": [
    {
     "name": "stdout",
     "output_type": "stream",
     "text": [
      "Data Loading is done!\n"
     ]
    }
   ],
   "source": [
    "import pandas as pd\n",
    "train = pd.read_csv('/Users/austin/Desktop/folders/kaggle_projects/house-prices-advanced-regression-techniques/train.csv')\n",
    "test =  pd.read_csv('/Users/austin/Desktop/folders/kaggle_projects/house-prices-advanced-regression-techniques/test.csv')\n",
    "print('Data Loading is done!')"
   ]
  },
  {
   "cell_type": "code",
   "execution_count": 70,
   "id": "1ff349c9",
   "metadata": {},
   "outputs": [
    {
     "name": "stdout",
     "output_type": "stream",
     "text": [
      "The shape of Train data is: (1460, 81)\n",
      "The shape of Test data is: (1459, 80)\n"
     ]
    }
   ],
   "source": [
    "print('The shape of Train data is:', train.shape)\n",
    "print('The shape of Test data is:', test.shape)"
   ]
  },
  {
   "cell_type": "code",
   "execution_count": 71,
   "id": "b59f0772",
   "metadata": {
    "scrolled": true
   },
   "outputs": [
    {
     "name": "stdout",
     "output_type": "stream",
     "text": [
      "<class 'pandas.core.frame.DataFrame'>\n",
      "RangeIndex: 1460 entries, 0 to 1459\n",
      "Data columns (total 81 columns):\n",
      " #   Column         Non-Null Count  Dtype  \n",
      "---  ------         --------------  -----  \n",
      " 0   Id             1460 non-null   int64  \n",
      " 1   MSSubClass     1460 non-null   int64  \n",
      " 2   MSZoning       1460 non-null   object \n",
      " 3   LotFrontage    1201 non-null   float64\n",
      " 4   LotArea        1460 non-null   int64  \n",
      " 5   Street         1460 non-null   object \n",
      " 6   Alley          91 non-null     object \n",
      " 7   LotShape       1460 non-null   object \n",
      " 8   LandContour    1460 non-null   object \n",
      " 9   Utilities      1460 non-null   object \n",
      " 10  LotConfig      1460 non-null   object \n",
      " 11  LandSlope      1460 non-null   object \n",
      " 12  Neighborhood   1460 non-null   object \n",
      " 13  Condition1     1460 non-null   object \n",
      " 14  Condition2     1460 non-null   object \n",
      " 15  BldgType       1460 non-null   object \n",
      " 16  HouseStyle     1460 non-null   object \n",
      " 17  OverallQual    1460 non-null   int64  \n",
      " 18  OverallCond    1460 non-null   int64  \n",
      " 19  YearBuilt      1460 non-null   int64  \n",
      " 20  YearRemodAdd   1460 non-null   int64  \n",
      " 21  RoofStyle      1460 non-null   object \n",
      " 22  RoofMatl       1460 non-null   object \n",
      " 23  Exterior1st    1460 non-null   object \n",
      " 24  Exterior2nd    1460 non-null   object \n",
      " 25  MasVnrType     1452 non-null   object \n",
      " 26  MasVnrArea     1452 non-null   float64\n",
      " 27  ExterQual      1460 non-null   object \n",
      " 28  ExterCond      1460 non-null   object \n",
      " 29  Foundation     1460 non-null   object \n",
      " 30  BsmtQual       1423 non-null   object \n",
      " 31  BsmtCond       1423 non-null   object \n",
      " 32  BsmtExposure   1422 non-null   object \n",
      " 33  BsmtFinType1   1423 non-null   object \n",
      " 34  BsmtFinSF1     1460 non-null   int64  \n",
      " 35  BsmtFinType2   1422 non-null   object \n",
      " 36  BsmtFinSF2     1460 non-null   int64  \n",
      " 37  BsmtUnfSF      1460 non-null   int64  \n",
      " 38  TotalBsmtSF    1460 non-null   int64  \n",
      " 39  Heating        1460 non-null   object \n",
      " 40  HeatingQC      1460 non-null   object \n",
      " 41  CentralAir     1460 non-null   object \n",
      " 42  Electrical     1459 non-null   object \n",
      " 43  1stFlrSF       1460 non-null   int64  \n",
      " 44  2ndFlrSF       1460 non-null   int64  \n",
      " 45  LowQualFinSF   1460 non-null   int64  \n",
      " 46  GrLivArea      1460 non-null   int64  \n",
      " 47  BsmtFullBath   1460 non-null   int64  \n",
      " 48  BsmtHalfBath   1460 non-null   int64  \n",
      " 49  FullBath       1460 non-null   int64  \n",
      " 50  HalfBath       1460 non-null   int64  \n",
      " 51  BedroomAbvGr   1460 non-null   int64  \n",
      " 52  KitchenAbvGr   1460 non-null   int64  \n",
      " 53  KitchenQual    1460 non-null   object \n",
      " 54  TotRmsAbvGrd   1460 non-null   int64  \n",
      " 55  Functional     1460 non-null   object \n",
      " 56  Fireplaces     1460 non-null   int64  \n",
      " 57  FireplaceQu    770 non-null    object \n",
      " 58  GarageType     1379 non-null   object \n",
      " 59  GarageYrBlt    1379 non-null   float64\n",
      " 60  GarageFinish   1379 non-null   object \n",
      " 61  GarageCars     1460 non-null   int64  \n",
      " 62  GarageArea     1460 non-null   int64  \n",
      " 63  GarageQual     1379 non-null   object \n",
      " 64  GarageCond     1379 non-null   object \n",
      " 65  PavedDrive     1460 non-null   object \n",
      " 66  WoodDeckSF     1460 non-null   int64  \n",
      " 67  OpenPorchSF    1460 non-null   int64  \n",
      " 68  EnclosedPorch  1460 non-null   int64  \n",
      " 69  3SsnPorch      1460 non-null   int64  \n",
      " 70  ScreenPorch    1460 non-null   int64  \n",
      " 71  PoolArea       1460 non-null   int64  \n",
      " 72  PoolQC         7 non-null      object \n",
      " 73  Fence          281 non-null    object \n",
      " 74  MiscFeature    54 non-null     object \n",
      " 75  MiscVal        1460 non-null   int64  \n",
      " 76  MoSold         1460 non-null   int64  \n",
      " 77  YrSold         1460 non-null   int64  \n",
      " 78  SaleType       1460 non-null   object \n",
      " 79  SaleCondition  1460 non-null   object \n",
      " 80  SalePrice      1460 non-null   int64  \n",
      "dtypes: float64(3), int64(35), object(43)\n",
      "memory usage: 924.0+ KB\n",
      "None\n"
     ]
    }
   ],
   "source": [
    "print(train.info())"
   ]
  },
  {
   "cell_type": "code",
   "execution_count": 72,
   "id": "00fe31d9",
   "metadata": {
    "scrolled": true
   },
   "outputs": [
    {
     "name": "stdout",
     "output_type": "stream",
     "text": [
      "<class 'pandas.core.frame.DataFrame'>\n",
      "RangeIndex: 1459 entries, 0 to 1458\n",
      "Data columns (total 80 columns):\n",
      " #   Column         Non-Null Count  Dtype  \n",
      "---  ------         --------------  -----  \n",
      " 0   Id             1459 non-null   int64  \n",
      " 1   MSSubClass     1459 non-null   int64  \n",
      " 2   MSZoning       1455 non-null   object \n",
      " 3   LotFrontage    1232 non-null   float64\n",
      " 4   LotArea        1459 non-null   int64  \n",
      " 5   Street         1459 non-null   object \n",
      " 6   Alley          107 non-null    object \n",
      " 7   LotShape       1459 non-null   object \n",
      " 8   LandContour    1459 non-null   object \n",
      " 9   Utilities      1457 non-null   object \n",
      " 10  LotConfig      1459 non-null   object \n",
      " 11  LandSlope      1459 non-null   object \n",
      " 12  Neighborhood   1459 non-null   object \n",
      " 13  Condition1     1459 non-null   object \n",
      " 14  Condition2     1459 non-null   object \n",
      " 15  BldgType       1459 non-null   object \n",
      " 16  HouseStyle     1459 non-null   object \n",
      " 17  OverallQual    1459 non-null   int64  \n",
      " 18  OverallCond    1459 non-null   int64  \n",
      " 19  YearBuilt      1459 non-null   int64  \n",
      " 20  YearRemodAdd   1459 non-null   int64  \n",
      " 21  RoofStyle      1459 non-null   object \n",
      " 22  RoofMatl       1459 non-null   object \n",
      " 23  Exterior1st    1458 non-null   object \n",
      " 24  Exterior2nd    1458 non-null   object \n",
      " 25  MasVnrType     1443 non-null   object \n",
      " 26  MasVnrArea     1444 non-null   float64\n",
      " 27  ExterQual      1459 non-null   object \n",
      " 28  ExterCond      1459 non-null   object \n",
      " 29  Foundation     1459 non-null   object \n",
      " 30  BsmtQual       1415 non-null   object \n",
      " 31  BsmtCond       1414 non-null   object \n",
      " 32  BsmtExposure   1415 non-null   object \n",
      " 33  BsmtFinType1   1417 non-null   object \n",
      " 34  BsmtFinSF1     1458 non-null   float64\n",
      " 35  BsmtFinType2   1417 non-null   object \n",
      " 36  BsmtFinSF2     1458 non-null   float64\n",
      " 37  BsmtUnfSF      1458 non-null   float64\n",
      " 38  TotalBsmtSF    1458 non-null   float64\n",
      " 39  Heating        1459 non-null   object \n",
      " 40  HeatingQC      1459 non-null   object \n",
      " 41  CentralAir     1459 non-null   object \n",
      " 42  Electrical     1459 non-null   object \n",
      " 43  1stFlrSF       1459 non-null   int64  \n",
      " 44  2ndFlrSF       1459 non-null   int64  \n",
      " 45  LowQualFinSF   1459 non-null   int64  \n",
      " 46  GrLivArea      1459 non-null   int64  \n",
      " 47  BsmtFullBath   1457 non-null   float64\n",
      " 48  BsmtHalfBath   1457 non-null   float64\n",
      " 49  FullBath       1459 non-null   int64  \n",
      " 50  HalfBath       1459 non-null   int64  \n",
      " 51  BedroomAbvGr   1459 non-null   int64  \n",
      " 52  KitchenAbvGr   1459 non-null   int64  \n",
      " 53  KitchenQual    1458 non-null   object \n",
      " 54  TotRmsAbvGrd   1459 non-null   int64  \n",
      " 55  Functional     1457 non-null   object \n",
      " 56  Fireplaces     1459 non-null   int64  \n",
      " 57  FireplaceQu    729 non-null    object \n",
      " 58  GarageType     1383 non-null   object \n",
      " 59  GarageYrBlt    1381 non-null   float64\n",
      " 60  GarageFinish   1381 non-null   object \n",
      " 61  GarageCars     1458 non-null   float64\n",
      " 62  GarageArea     1458 non-null   float64\n",
      " 63  GarageQual     1381 non-null   object \n",
      " 64  GarageCond     1381 non-null   object \n",
      " 65  PavedDrive     1459 non-null   object \n",
      " 66  WoodDeckSF     1459 non-null   int64  \n",
      " 67  OpenPorchSF    1459 non-null   int64  \n",
      " 68  EnclosedPorch  1459 non-null   int64  \n",
      " 69  3SsnPorch      1459 non-null   int64  \n",
      " 70  ScreenPorch    1459 non-null   int64  \n",
      " 71  PoolArea       1459 non-null   int64  \n",
      " 72  PoolQC         3 non-null      object \n",
      " 73  Fence          290 non-null    object \n",
      " 74  MiscFeature    51 non-null     object \n",
      " 75  MiscVal        1459 non-null   int64  \n",
      " 76  MoSold         1459 non-null   int64  \n",
      " 77  YrSold         1459 non-null   int64  \n",
      " 78  SaleType       1458 non-null   object \n",
      " 79  SaleCondition  1459 non-null   object \n",
      "dtypes: float64(11), int64(26), object(43)\n",
      "memory usage: 912.0+ KB\n",
      "None\n"
     ]
    }
   ],
   "source": [
    "print(test.info())"
   ]
  },
  {
   "cell_type": "code",
   "execution_count": 73,
   "id": "4075c58c",
   "metadata": {},
   "outputs": [
    {
     "data": {
      "text/plain": [
       "{'whiskers': [<matplotlib.lines.Line2D at 0x7fd34c920f40>,\n",
       "  <matplotlib.lines.Line2D at 0x7fd34c92c220>],\n",
       " 'caps': [<matplotlib.lines.Line2D at 0x7fd34c92c4c0>,\n",
       "  <matplotlib.lines.Line2D at 0x7fd34c92c760>],\n",
       " 'boxes': [<matplotlib.lines.Line2D at 0x7fd34c920ca0>],\n",
       " 'medians': [<matplotlib.lines.Line2D at 0x7fd34c92ca00>],\n",
       " 'fliers': [<matplotlib.lines.Line2D at 0x7fd34c92cca0>],\n",
       " 'means': []}"
      ]
     },
     "execution_count": 73,
     "metadata": {},
     "output_type": "execute_result"
    },
    {
     "data": {
      "image/png": "[encoded data removed]",
      "text/plain": [
       "<Figure size 1000x600 with 2 Axes>"
      ]
     },
     "metadata": {},
     "output_type": "display_data"
    }
   ],
   "source": [
    "#이상치 제거\n",
    "%matplotlib inline\n",
    "import matplotlib.pyplot as plt\n",
    "import matplotlib\n",
    "plt.style.use('default')\n",
    "fig, ax= plt.subplots(1,2, figsize = (10,6))\n",
    "\n",
    "ax[0].boxplot([train['OverallQual']])\n",
    "\n",
    "ax[1].boxplot(train['SalePrice'])\n"
   ]
  },
  {
   "cell_type": "code",
   "execution_count": 74,
   "id": "afcebe5d",
   "metadata": {},
   "outputs": [
    {
     "name": "stdout",
     "output_type": "stream",
     "text": [
      "(1034, 81)\n"
     ]
    }
   ],
   "source": [
    "#대략 보아서는 이상치의 존재가 꽤 있어 보여서 개수를 줄여본다.\n",
    "train.drop(train[(train['OverallQual']<4) & (train['SalePrice']>200000)].index, inplace = True)\n",
    "train.drop(train[(train['OverallQual']>4) & (train['SalePrice']>200000)].index, inplace = True)\n",
    "train.reset_index(drop =True, inplace = True)\n",
    "print(train.shape)"
   ]
  },
  {
   "cell_type": "code",
   "execution_count": 75,
   "id": "11c747bc",
   "metadata": {},
   "outputs": [
    {
     "name": "stdout",
     "output_type": "stream",
     "text": [
      "The value of mu before log transformation is: 141627.56092843326\n",
      "The value of sigma before log transformation is: 33297.49933769461\n"
     ]
    },
    {
     "name": "stderr",
     "output_type": "stream",
     "text": [
      "/var/folders/nh/3q0vdk7s383d4t34nv4_q89m0000gn/T/ipykernel_8071/3222715266.py:17: UserWarning: Matplotlib is currently using module://matplotlib_inline.backend_inline, which is a non-GUI backend, so cannot show the figure.\n",
      "  fig.show()\n"
     ]
    },
    {
     "data": {
      "image/png": "[encoded data removed]",
      "text/plain": [
       "<Figure size 1000x600 with 1 Axes>"
      ]
     },
     "metadata": {},
     "output_type": "display_data"
    }
   ],
   "source": [
    "import seaborn as sns\n",
    "from scipy.stats import norm \n",
    "(mu, sigma) = norm.fit(train['SalePrice'])\n",
    "print('The value of mu before log transformation is:', mu)\n",
    "print('The value of sigma before log transformation is:', sigma)\n",
    "\n",
    "fig, ax = plt.subplots(figsize = (10,6))\n",
    "sns.histplot(train['SalePrice'], color= 'b', stat = 'probability')\n",
    "ax.xaxis.grid(False)\n",
    "ax.set(ylabel= 'Frequency')\n",
    "ax.set(xlabel= 'SalePrice')\n",
    "ax.set(title= 'SalePrice distribution')\n",
    "\n",
    "plt.axvline(mu, color = 'r', linestyle = '--')\n",
    "plt.text(mu + 10000, 0.11, 'Mean of SalePrice', rotation = 0, color = 'r')\n",
    "\n",
    "fig.show()"
   ]
  },
  {
   "cell_type": "code",
   "execution_count": 80,
   "id": "1702e145",
   "metadata": {
    "scrolled": false
   },
   "outputs": [
    {
     "name": "stdout",
     "output_type": "stream",
     "text": [
      "The value of mu after log transformation is: 11.828714754989278\n",
      "The value of sigma after log transformation is: 0.2671049698537984\n"
     ]
    },
    {
     "name": "stderr",
     "output_type": "stream",
     "text": [
      "/var/folders/nh/3q0vdk7s383d4t34nv4_q89m0000gn/T/ipykernel_8071/1780147365.py:19: UserWarning: Matplotlib is currently using module://matplotlib_inline.backend_inline, which is a non-GUI backend, so cannot show the figure.\n",
      "  fig.show()\n"
     ]
    },
    {
     "data": {
      "image/png": "[encoded data removed]",
      "text/plain": [
       "<Figure size 1000x600 with 1 Axes>"
      ]
     },
     "metadata": {},
     "output_type": "display_data"
    }
   ],
   "source": [
    "#log transformation으로 데이터를 정규분포에 가깝게 변환시킨다. \n",
    "#log transformation은 왜도가 +인 경우 즉 오른쪽으로 꼬리가 길 경우 사용한다. \n",
    "import numpy as np\n",
    "#train['SalePrice'] = np.log1p(train['SalePrice'])\n",
    "\n",
    "(mu, sigma) = norm.fit(train['SalePrice'])\n",
    "print('The value of mu after log transformation is:', mu)\n",
    "print('The value of sigma after log transformation is:', sigma)\n",
    "\n",
    "fig, ax = plt.subplots(figsize = (10,6))\n",
    "sns.histplot(train['SalePrice'], color= 'b', stat = 'probability')\n",
    "ax.xaxis.grid(False)\n",
    "ax.set(ylabel= 'Frequency')\n",
    "ax.set(xlabel= 'SalePrice')\n",
    "ax.set(title= 'SalePrice distribution')\n",
    "\n",
    "plt.axvline(mu, color = 'r', linestyle = '--')\n",
    "plt.text(mu + 0.05, 0.11, 'Mean of SalePrice', rotation = 0, color = 'r')\n",
    "\n",
    "plt.ylim(0, 0.12)\n",
    "fig.show()"
   ]
  },
  {
   "cell_type": "code",
   "execution_count": null,
   "id": "a9c3315b",
   "metadata": {},
   "outputs": [],
   "source": []
  }
 ],
 "metadata": {
  "kernelspec": {
   "display_name": "Python 3 (ipykernel)",
   "language": "python",
   "name": "python3"
  },
  "language_info": {
   "codemirror_mode": {
    "name": "ipython",
    "version": 3
   },
   "file_extension": ".py",
   "mimetype": "text/x-python",
   "name": "python",
   "nbconvert_exporter": "python",
   "pygments_lexer": "ipython3",
   "version": "3.9.5"
  }
 },
 "nbformat": 4,
 "nbformat_minor": 5
}
